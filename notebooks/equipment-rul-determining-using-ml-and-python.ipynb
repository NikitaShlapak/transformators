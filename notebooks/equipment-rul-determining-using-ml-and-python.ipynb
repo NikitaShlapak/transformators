{
 "metadata": {
  "kernelspec": {
   "language": "python",
   "display_name": "Python 3",
   "name": "python3"
  },
  "language_info": {
   "name": "python",
   "version": "3.10.10",
   "mimetype": "text/x-python",
   "codemirror_mode": {
    "name": "ipython",
    "version": 3
   },
   "pygments_lexer": "ipython3",
   "nbconvert_exporter": "python",
   "file_extension": ".py"
  }
 },
 "nbformat_minor": 4,
 "nbformat": 4,
 "cells": [
  {
   "cell_type": "markdown",
   "source": [
    "# Data loading"
   ],
   "metadata": {}
  },
  {
   "cell_type": "markdown",
   "source": [
    "## Libraries import"
   ],
   "metadata": {}
  },
  {
   "cell_type": "code",
   "source": [
    "import numpy as np\n",
    "import pandas as pd\n",
    "from matplotlib import pyplot as plt\n",
    "\n",
    "\n",
    "PATH = '../data/transformer-time/'"
   ],
   "metadata": {
    "_uuid": "8f2839f25d086af736a60e9eeb907d3b93b6e0e5",
    "_cell_guid": "b1076dfc-b9ad-4769-8c92-a6c4dae69d19",
    "execution": {
     "iopub.status.busy": "2023-08-20T08:42:33.150336Z",
     "iopub.execute_input": "2023-08-20T08:42:33.150718Z",
     "iopub.status.idle": "2023-08-20T08:42:33.156821Z",
     "shell.execute_reply.started": "2023-08-20T08:42:33.150665Z",
     "shell.execute_reply": "2023-08-20T08:42:33.155526Z"
    },
    "trusted": true,
    "ExecuteTime": {
     "end_time": "2023-08-20T17:40:06.240048727Z",
     "start_time": "2023-08-20T17:40:06.195432851Z"
    }
   },
   "execution_count": 103,
   "outputs": []
  },
  {
   "cell_type": "markdown",
   "source": [
    "## Available (Train) set"
   ],
   "metadata": {}
  },
  {
   "cell_type": "code",
   "source": [
    "y_data = pd.read_csv(PATH + 'train.csv', index_col='id')\n",
    "y_data.head()"
   ],
   "metadata": {
    "execution": {
     "iopub.status.busy": "2023-08-20T08:42:36.815971Z",
     "iopub.execute_input": "2023-08-20T08:42:36.816349Z",
     "iopub.status.idle": "2023-08-20T08:42:36.866658Z",
     "shell.execute_reply.started": "2023-08-20T08:42:36.816321Z",
     "shell.execute_reply": "2023-08-20T08:42:36.865773Z"
    },
    "trusted": true,
    "ExecuteTime": {
     "end_time": "2023-08-20T17:40:06.435873719Z",
     "start_time": "2023-08-20T17:40:06.201321077Z"
    }
   },
   "execution_count": 104,
   "outputs": [
    {
     "data": {
      "text/plain": "                  predicted\nid                         \n2_trans_497.csv         550\n2_trans_483.csv        1093\n2_trans_2396.csv        861\n2_trans_1847.csv       1093\n2_trans_2382.csv        488",
      "text/html": "<div>\n<style scoped>\n    .dataframe tbody tr th:only-of-type {\n        vertical-align: middle;\n    }\n\n    .dataframe tbody tr th {\n        vertical-align: top;\n    }\n\n    .dataframe thead th {\n        text-align: right;\n    }\n</style>\n<table border=\"1\" class=\"dataframe\">\n  <thead>\n    <tr style=\"text-align: right;\">\n      <th></th>\n      <th>predicted</th>\n    </tr>\n    <tr>\n      <th>id</th>\n      <th></th>\n    </tr>\n  </thead>\n  <tbody>\n    <tr>\n      <th>2_trans_497.csv</th>\n      <td>550</td>\n    </tr>\n    <tr>\n      <th>2_trans_483.csv</th>\n      <td>1093</td>\n    </tr>\n    <tr>\n      <th>2_trans_2396.csv</th>\n      <td>861</td>\n    </tr>\n    <tr>\n      <th>2_trans_1847.csv</th>\n      <td>1093</td>\n    </tr>\n    <tr>\n      <th>2_trans_2382.csv</th>\n      <td>488</td>\n    </tr>\n  </tbody>\n</table>\n</div>"
     },
     "execution_count": 104,
     "metadata": {},
     "output_type": "execute_result"
    }
   ]
  },
  {
   "cell_type": "code",
   "source": [
    "X_data = {}\n",
    "for row in y_data.iterrows():\n",
    "    file_name = row[0]\n",
    "    path = PATH + f'data_train/data_train/{file_name}'\n",
    "    X_data[file_name] = pd.read_csv(path)"
   ],
   "metadata": {
    "execution": {
     "iopub.status.busy": "2023-08-20T08:42:42.415315Z",
     "iopub.execute_input": "2023-08-20T08:42:42.415667Z",
     "iopub.status.idle": "2023-08-20T08:42:59.830551Z",
     "shell.execute_reply.started": "2023-08-20T08:42:42.415642Z",
     "shell.execute_reply": "2023-08-20T08:42:59.829203Z"
    },
    "trusted": true,
    "ExecuteTime": {
     "end_time": "2023-08-20T17:40:08.174478404Z",
     "start_time": "2023-08-20T17:40:06.318804462Z"
    }
   },
   "execution_count": 105,
   "outputs": []
  },
  {
   "cell_type": "code",
   "source": [
    "X_data[file_name].shape"
   ],
   "metadata": {
    "execution": {
     "iopub.status.busy": "2023-08-20T08:43:01.958541Z",
     "iopub.execute_input": "2023-08-20T08:43:01.959846Z",
     "iopub.status.idle": "2023-08-20T08:43:01.966752Z",
     "shell.execute_reply.started": "2023-08-20T08:43:01.959804Z",
     "shell.execute_reply": "2023-08-20T08:43:01.965555Z"
    },
    "trusted": true,
    "ExecuteTime": {
     "end_time": "2023-08-20T17:40:08.174804016Z",
     "start_time": "2023-08-20T17:40:08.168045434Z"
    }
   },
   "execution_count": 106,
   "outputs": [
    {
     "data": {
      "text/plain": "(420, 4)"
     },
     "execution_count": 106,
     "metadata": {},
     "output_type": "execute_result"
    }
   ]
  },
  {
   "cell_type": "code",
   "source": [
    "X_data[file_name].head(2)"
   ],
   "metadata": {
    "execution": {
     "iopub.status.busy": "2023-08-20T08:43:03.559400Z",
     "iopub.execute_input": "2023-08-20T08:43:03.559757Z",
     "iopub.status.idle": "2023-08-20T08:43:03.571486Z",
     "shell.execute_reply.started": "2023-08-20T08:43:03.559731Z",
     "shell.execute_reply": "2023-08-20T08:43:03.570047Z"
    },
    "trusted": true,
    "ExecuteTime": {
     "end_time": "2023-08-20T17:40:08.292591171Z",
     "start_time": "2023-08-20T17:40:08.171148175Z"
    }
   },
   "execution_count": 107,
   "outputs": [
    {
     "data": {
      "text/plain": "         H2        CO      C2H4      C2H2\n0  0.001545  0.024891  0.002929  0.000135\n1  0.001545  0.024891  0.002928  0.000135",
      "text/html": "<div>\n<style scoped>\n    .dataframe tbody tr th:only-of-type {\n        vertical-align: middle;\n    }\n\n    .dataframe tbody tr th {\n        vertical-align: top;\n    }\n\n    .dataframe thead th {\n        text-align: right;\n    }\n</style>\n<table border=\"1\" class=\"dataframe\">\n  <thead>\n    <tr style=\"text-align: right;\">\n      <th></th>\n      <th>H2</th>\n      <th>CO</th>\n      <th>C2H4</th>\n      <th>C2H2</th>\n    </tr>\n  </thead>\n  <tbody>\n    <tr>\n      <th>0</th>\n      <td>0.001545</td>\n      <td>0.024891</td>\n      <td>0.002929</td>\n      <td>0.000135</td>\n    </tr>\n    <tr>\n      <th>1</th>\n      <td>0.001545</td>\n      <td>0.024891</td>\n      <td>0.002928</td>\n      <td>0.000135</td>\n    </tr>\n  </tbody>\n</table>\n</div>"
     },
     "execution_count": 107,
     "metadata": {},
     "output_type": "execute_result"
    }
   ]
  },
  {
   "cell_type": "markdown",
   "source": [
    "Since we don't have y_test, all the experments will be conducted using only train set. So, we will divide train set into train and validation sets. Validation set will be used as left out test set for results evaluation."
   ],
   "metadata": {}
  },
  {
   "cell_type": "markdown",
   "source": [
    "# Modeling"
   ],
   "metadata": {}
  },
  {
   "cell_type": "code",
   "source": [
    "from sklearn.model_selection import train_test_split\n",
    "from sklearn.linear_model import LinearRegression, LogisticRegression\n",
    "from sklearn.preprocessing import StandardScaler\n",
    "from sklearn.metrics import mean_absolute_error, f1_score\n",
    "from catboost import CatBoostRegressor\n",
    "from tsfresh.feature_extraction import extract_features, MinimalFCParameters, ComprehensiveFCParameters\n",
    "from tsfresh.feature_selection import  select_features"
   ],
   "metadata": {
    "execution": {
     "iopub.status.busy": "2023-08-20T08:43:05.325851Z",
     "iopub.execute_input": "2023-08-20T08:43:05.326261Z",
     "iopub.status.idle": "2023-08-20T08:43:05.332386Z",
     "shell.execute_reply.started": "2023-08-20T08:43:05.326222Z",
     "shell.execute_reply": "2023-08-20T08:43:05.331577Z"
    },
    "trusted": true,
    "ExecuteTime": {
     "end_time": "2023-08-20T17:40:08.436031026Z",
     "start_time": "2023-08-20T17:40:08.289523526Z"
    }
   },
   "execution_count": 108,
   "outputs": []
  },
  {
   "cell_type": "markdown",
   "source": [
    "## Regression on aggregated parameters"
   ],
   "metadata": {}
  },
  {
   "cell_type": "markdown",
   "source": [
    "### Approach 1 (default): basic aggregation (TSFresh) + gradient boosting"
   ],
   "metadata": {}
  },
  {
   "cell_type": "code",
   "source": [
    "X = pd.concat([X_data[file].assign(id=file) for file in y_data.index], axis=0, ignore_index=True)\n",
    "y = y_data.copy()\n",
    "\n",
    "settings = MinimalFCParameters()\n",
    "X = extract_features(X, \n",
    "                     column_id=\"id\", \n",
    "                     default_fc_parameters=settings).loc[y.index]\n",
    "\n",
    "X_train, X_val, y_train, y_val = train_test_split(X, y, test_size=0.15, random_state=1)"
   ],
   "metadata": {
    "execution": {
     "iopub.status.busy": "2023-08-20T08:43:22.673661Z",
     "iopub.execute_input": "2023-08-20T08:43:22.674017Z",
     "iopub.status.idle": "2023-08-20T08:43:25.815142Z",
     "shell.execute_reply.started": "2023-08-20T08:43:22.673993Z",
     "shell.execute_reply": "2023-08-20T08:43:25.813753Z"
    },
    "trusted": true,
    "ExecuteTime": {
     "end_time": "2023-08-20T17:40:11.017932026Z",
     "start_time": "2023-08-20T17:40:08.411710641Z"
    }
   },
   "execution_count": 109,
   "outputs": [
    {
     "name": "stderr",
     "output_type": "stream",
     "text": [
      "Feature Extraction: 100%|██████████| 30/30 [00:01<00:00, 26.52it/s]\n"
     ]
    }
   ]
  },
  {
   "cell_type": "code",
   "source": [
    "cbr = CatBoostRegressor(random_state=1, verbose=0)\n",
    "cbr.fit(X_train, y_train)\n",
    "\n",
    "y_train_pred = cbr.predict(X_train)\n",
    "y_val_pred = cbr.predict(X_val)\n",
    "\n",
    "mae_train = round(mean_absolute_error(y_train, y_train_pred), 2)\n",
    "mae_val = round(mean_absolute_error(y_val, y_val_pred), 2)\n",
    "print(f'MAE on train set = {mae_train}')\n",
    "print(f'MAE on test set = {mae_val}')"
   ],
   "metadata": {
    "execution": {
     "iopub.status.busy": "2023-08-20T07:32:36.913230Z",
     "iopub.execute_input": "2023-08-20T07:32:36.914432Z",
     "iopub.status.idle": "2023-08-20T07:32:46.628631Z",
     "shell.execute_reply.started": "2023-08-20T07:32:36.914378Z",
     "shell.execute_reply": "2023-08-20T07:32:46.627305Z"
    },
    "trusted": true,
    "ExecuteTime": {
     "end_time": "2023-08-20T17:40:12.758557189Z",
     "start_time": "2023-08-20T17:40:11.027264314Z"
    }
   },
   "execution_count": 110,
   "outputs": [
    {
     "name": "stdout",
     "output_type": "stream",
     "text": [
      "MAE on train set = 39.25\n",
      "MAE on test set = 90.12\n"
     ]
    }
   ]
  },
  {
   "cell_type": "markdown",
   "source": [
    "The model is clearly overfitted."
   ],
   "metadata": {}
  },
  {
   "cell_type": "markdown",
   "source": [
    "### Why is the error so big?"
   ],
   "metadata": {}
  },
  {
   "cell_type": "code",
   "source": [
    "plt.figure(figsize=(6, 3))\n",
    "plt.hist(y_val_pred, bins=30, alpha=0.6, label='Predicted values on the test set')\n",
    "plt.hist(y_val, bins=30, alpha=0.6, label='True values of the test set')\n",
    "plt.legend()\n",
    "plt.show()"
   ],
   "metadata": {
    "execution": {
     "iopub.status.busy": "2023-06-24T15:48:46.442193Z",
     "iopub.execute_input": "2023-06-24T15:48:46.442524Z",
     "iopub.status.idle": "2023-06-24T15:48:46.895817Z",
     "shell.execute_reply.started": "2023-06-24T15:48:46.442495Z",
     "shell.execute_reply": "2023-06-24T15:48:46.89426Z"
    },
    "trusted": true,
    "ExecuteTime": {
     "end_time": "2023-08-20T17:40:12.944477035Z",
     "start_time": "2023-08-20T17:40:12.799133553Z"
    }
   },
   "execution_count": 111,
   "outputs": [
    {
     "data": {
      "text/plain": "<Figure size 600x300 with 1 Axes>",
      "image/png": "[encoded data removed]"
     },
     "metadata": {},
     "output_type": "display_data"
    }
   ]
  },
  {
   "cell_type": "markdown",
   "source": [
    "### Approach 2: Comprehensive aggregation (TSFresh) + gradient boosting + classification"
   ],
   "metadata": {}
  },
  {
   "cell_type": "markdown",
   "source": [
    "### Stage 1: classification"
   ],
   "metadata": {}
  },
  {
   "cell_type": "markdown",
   "source": [
    "Let's call values equal to 1093 outliers.\n"
   ],
   "metadata": {}
  },
  {
   "cell_type": "code",
   "source": [
    "y = (y_data == 1093).astype(int)\n",
    "X = pd.concat([X_data[file].assign(id=file) for file in y_data.index], axis=0, ignore_index=True)\n",
    "\n",
    "settings = ComprehensiveFCParameters()\n",
    "X = extract_features(X, \n",
    "                     column_id=\"id\", \n",
    "                     default_fc_parameters=settings).loc[y.index]\n",
    "\n",
    "X_train, X_val, y_train, y_val = train_test_split(X, y, test_size=0.15, random_state=1)"
   ],
   "metadata": {
    "execution": {
     "iopub.status.busy": "2023-08-20T08:43:34.007516Z",
     "iopub.execute_input": "2023-08-20T08:43:34.007907Z",
     "iopub.status.idle": "2023-08-20T08:59:10.627552Z",
     "shell.execute_reply.started": "2023-08-20T08:43:34.007875Z",
     "shell.execute_reply": "2023-08-20T08:59:10.626521Z"
    },
    "trusted": true,
    "ExecuteTime": {
     "end_time": "2023-08-20T17:51:21.554984900Z",
     "start_time": "2023-08-20T17:47:35.927276270Z"
    }
   },
   "execution_count": 123,
   "outputs": [
    {
     "name": "stderr",
     "output_type": "stream",
     "text": [
      "Feature Extraction: 100%|██████████| 30/30 [03:41<00:00,  7.39s/it]\n"
     ]
    }
   ]
  },
  {
   "cell_type": "code",
   "source": [
    "X_train_filtered = select_features(X_train.dropna(axis=1), pd.Series(y_train['predicted']), ml_task='classification',  fdr_level=1e-10)\n",
    "relevant_features = set(X_train_filtered.columns)\n",
    "\n",
    "X_train_filtered = X_train[list(relevant_features)]\n",
    "X_val_filtered = X_val[list(relevant_features)]\n",
    "\n",
    "X_train_filtered.head()"
   ],
   "metadata": {
    "execution": {
     "iopub.status.busy": "2023-08-20T09:04:17.843389Z",
     "iopub.execute_input": "2023-08-20T09:04:17.843793Z",
     "iopub.status.idle": "2023-08-20T09:04:31.284311Z",
     "shell.execute_reply.started": "2023-08-20T09:04:17.843764Z",
     "shell.execute_reply": "2023-08-20T09:04:31.282762Z"
    },
    "trusted": true,
    "ExecuteTime": {
     "end_time": "2023-08-20T17:51:49.896330251Z",
     "start_time": "2023-08-20T17:51:46.426832784Z"
    }
   },
   "execution_count": 124,
   "outputs": [
    {
     "data": {
      "text/plain": "                  CO__quantile__q_0.3  \\\nid                                      \n2_trans_2516.csv             0.023095   \n2_trans_2026.csv             0.022571   \n2_trans_2976.csv             0.001265   \n2_trans_2838.csv             0.001478   \n2_trans_633.csv              0.021966   \n\n                  H2__fft_coefficient__attr_\"abs\"__coeff_84  \\\nid                                                            \n2_trans_2516.csv                                   0.000488   \n2_trans_2026.csv                                   0.000800   \n2_trans_2976.csv                                   0.000886   \n2_trans_2838.csv                                   0.001134   \n2_trans_633.csv                                    0.000387   \n\n                  H2__agg_linear_trend__attr_\"stderr\"__chunk_len_5__f_agg_\"mean\"  \\\nid                                                                                 \n2_trans_2516.csv                                       1.599637e-07                \n2_trans_2026.csv                                       2.967816e-07                \n2_trans_2976.csv                                       2.791327e-07                \n2_trans_2838.csv                                       6.836915e-07                \n2_trans_633.csv                                        2.369389e-07                \n\n                  H2__fft_coefficient__attr_\"abs\"__coeff_37  \\\nid                                                            \n2_trans_2516.csv                                   0.001049   \n2_trans_2026.csv                                   0.001721   \n2_trans_2976.csv                                   0.001907   \n2_trans_2838.csv                                   0.002440   \n2_trans_633.csv                                    0.000833   \n\n                  C2H2__cwt_coefficients__coeff_2__w_10__widths_(2, 5, 10, 20)  \\\nid                                                                               \n2_trans_2516.csv                                       6.048963e-05              \n2_trans_2026.csv                                       1.025092e-04              \n2_trans_2976.csv                                       5.745808e-07              \n2_trans_2838.csv                                       1.291415e-05              \n2_trans_633.csv                                        1.550568e-04              \n\n                  C2H2__cwt_coefficients__coeff_3__w_20__widths_(2, 5, 10, 20)  \\\nid                                                                               \n2_trans_2516.csv                                       6.501273e-05              \n2_trans_2026.csv                                       1.090707e-04              \n2_trans_2976.csv                                       7.481171e-07              \n2_trans_2838.csv                                       7.580825e-06              \n2_trans_633.csv                                        1.668536e-04              \n\n                  C2H4__fft_coefficient__attr_\"real\"__coeff_85  \\\nid                                                               \n2_trans_2516.csv                                     -0.000532   \n2_trans_2026.csv                                     -0.001818   \n2_trans_2976.csv                                     -0.000158   \n2_trans_2838.csv                                      0.000067   \n2_trans_633.csv                                      -0.001769   \n\n                  H2__fft_coefficient__attr_\"real\"__coeff_92  \\\nid                                                             \n2_trans_2516.csv                                   -0.000285   \n2_trans_2026.csv                                   -0.000468   \n2_trans_2976.csv                                   -0.000519   \n2_trans_2838.csv                                   -0.000663   \n2_trans_633.csv                                    -0.000226   \n\n                  C2H2__fft_coefficient__attr_\"real\"__coeff_92  \\\nid                                                               \n2_trans_2516.csv                                 -2.407720e-06   \n2_trans_2026.csv                                 -6.352513e-05   \n2_trans_2976.csv                                 -1.322612e-06   \n2_trans_2838.csv                                 -4.413991e-07   \n2_trans_633.csv                                  -8.232733e-05   \n\n                  C2H2__fft_coefficient__attr_\"abs\"__coeff_32  ...  \\\nid                                                             ...   \n2_trans_2516.csv                                     0.000010  ...   \n2_trans_2026.csv                                     0.000269  ...   \n2_trans_2976.csv                                     0.000004  ...   \n2_trans_2838.csv                                     0.000002  ...   \n2_trans_633.csv                                      0.000349  ...   \n\n                  C2H4__fft_coefficient__attr_\"real\"__coeff_91  \\\nid                                                               \n2_trans_2516.csv                                     -0.000532   \n2_trans_2026.csv                                     -0.001820   \n2_trans_2976.csv                                     -0.000158   \n2_trans_2838.csv                                      0.000066   \n2_trans_633.csv                                      -0.001770   \n\n                  H2__fft_coefficient__attr_\"imag\"__coeff_25  \\\nid                                                             \n2_trans_2516.csv                                    0.001521   \n2_trans_2026.csv                                    0.002491   \n2_trans_2976.csv                                    0.002760   \n2_trans_2838.csv                                    0.003536   \n2_trans_633.csv                                     0.001208   \n\n                  C2H2__change_quantiles__f_agg_\"mean\"__isabs_True__qh_0.8__ql_0.0  \\\nid                                                                                   \n2_trans_2516.csv                                       1.703223e-07                  \n2_trans_2026.csv                                       1.751070e-07                  \n2_trans_2976.csv                                       1.337964e-07                  \n2_trans_2838.csv                                       1.169306e-07                  \n2_trans_633.csv                                        3.281433e-07                  \n\n                  C2H2__fft_coefficient__attr_\"imag\"__coeff_32  \\\nid                                                               \n2_trans_2516.csv                                      0.000010   \n2_trans_2026.csv                                      0.000263   \n2_trans_2976.csv                                      0.000003   \n2_trans_2838.csv                                      0.000002   \n2_trans_633.csv                                       0.000340   \n\n                  CO__fft_coefficient__attr_\"imag\"__coeff_10  \\\nid                                                             \n2_trans_2516.csv                                    0.082538   \n2_trans_2026.csv                                    0.057220   \n2_trans_2976.csv                                    0.010060   \n2_trans_2838.csv                                   -0.006628   \n2_trans_633.csv                                     0.010904   \n\n                  CO__change_quantiles__f_agg_\"mean\"__isabs_True__qh_1.0__ql_0.6  \\\nid                                                                                 \n2_trans_2516.csv                                           0.000049                \n2_trans_2026.csv                                           0.000026                \n2_trans_2976.csv                                           0.000011                \n2_trans_2838.csv                                           0.000005                \n2_trans_633.csv                                            0.000008                \n\n                  C2H4__agg_linear_trend__attr_\"slope\"__chunk_len_10__f_agg_\"mean\"  \\\nid                                                                                   \n2_trans_2516.csv                                           0.000025                  \n2_trans_2026.csv                                           0.000079                  \n2_trans_2976.csv                                           0.000004                  \n2_trans_2838.csv                                          -0.000010                  \n2_trans_633.csv                                            0.000090                  \n\n                  CO__fft_coefficient__attr_\"abs\"__coeff_11  \\\nid                                                            \n2_trans_2516.csv                                   0.075240   \n2_trans_2026.csv                                   0.052127   \n2_trans_2976.csv                                   0.009173   \n2_trans_2838.csv                                   0.006088   \n2_trans_633.csv                                    0.009856   \n\n                  CO__fft_coefficient__attr_\"real\"__coeff_17  CO__c3__lag_3  \nid                                                                           \n2_trans_2516.csv                                   -0.005335   1.943549e-05  \n2_trans_2026.csv                                   -0.003519   1.344197e-05  \n2_trans_2976.csv                                   -0.000498   1.028895e-08  \n2_trans_2838.csv                                    0.000661   1.209771e-08  \n2_trans_633.csv                                    -0.000416   1.191125e-05  \n\n[5 rows x 1829 columns]",
      "text/html": "<div>\n<style scoped>\n    .dataframe tbody tr th:only-of-type {\n        vertical-align: middle;\n    }\n\n    .dataframe tbody tr th {\n        vertical-align: top;\n    }\n\n    .dataframe thead th {\n        text-align: right;\n    }\n</style>\n<table border=\"1\" class=\"dataframe\">\n  <thead>\n    <tr style=\"text-align: right;\">\n      <th></th>\n      <th>CO__quantile__q_0.3</th>\n      <th>H2__fft_coefficient__attr_\"abs\"__coeff_84</th>\n      <th>H2__agg_linear_trend__attr_\"stderr\"__chunk_len_5__f_agg_\"mean\"</th>\n      <th>H2__fft_coefficient__attr_\"abs\"__coeff_37</th>\n      <th>C2H2__cwt_coefficients__coeff_2__w_10__widths_(2, 5, 10, 20)</th>\n      <th>C2H2__cwt_coefficients__coeff_3__w_20__widths_(2, 5, 10, 20)</th>\n      <th>C2H4__fft_coefficient__attr_\"real\"__coeff_85</th>\n      <th>H2__fft_coefficient__attr_\"real\"__coeff_92</th>\n      <th>C2H2__fft_coefficient__attr_\"real\"__coeff_92</th>\n      <th>C2H2__fft_coefficient__attr_\"abs\"__coeff_32</th>\n      <th>...</th>\n      <th>C2H4__fft_coefficient__attr_\"real\"__coeff_91</th>\n      <th>H2__fft_coefficient__attr_\"imag\"__coeff_25</th>\n      <th>C2H2__change_quantiles__f_agg_\"mean\"__isabs_True__qh_0.8__ql_0.0</th>\n      <th>C2H2__fft_coefficient__attr_\"imag\"__coeff_32</th>\n      <th>CO__fft_coefficient__attr_\"imag\"__coeff_10</th>\n      <th>CO__change_quantiles__f_agg_\"mean\"__isabs_True__qh_1.0__ql_0.6</th>\n      <th>C2H4__agg_linear_trend__attr_\"slope\"__chunk_len_10__f_agg_\"mean\"</th>\n      <th>CO__fft_coefficient__attr_\"abs\"__coeff_11</th>\n      <th>CO__fft_coefficient__attr_\"real\"__coeff_17</th>\n      <th>CO__c3__lag_3</th>\n    </tr>\n    <tr>\n      <th>id</th>\n      <th></th>\n      <th></th>\n      <th></th>\n      <th></th>\n      <th></th>\n      <th></th>\n      <th></th>\n      <th></th>\n      <th></th>\n      <th></th>\n      <th></th>\n      <th></th>\n      <th></th>\n      <th></th>\n      <th></th>\n      <th></th>\n      <th></th>\n      <th></th>\n      <th></th>\n      <th></th>\n      <th></th>\n    </tr>\n  </thead>\n  <tbody>\n    <tr>\n      <th>2_trans_2516.csv</th>\n      <td>0.023095</td>\n      <td>0.000488</td>\n      <td>1.599637e-07</td>\n      <td>0.001049</td>\n      <td>6.048963e-05</td>\n      <td>6.501273e-05</td>\n      <td>-0.000532</td>\n      <td>-0.000285</td>\n      <td>-2.407720e-06</td>\n      <td>0.000010</td>\n      <td>...</td>\n      <td>-0.000532</td>\n      <td>0.001521</td>\n      <td>1.703223e-07</td>\n      <td>0.000010</td>\n      <td>0.082538</td>\n      <td>0.000049</td>\n      <td>0.000025</td>\n      <td>0.075240</td>\n      <td>-0.005335</td>\n      <td>1.943549e-05</td>\n    </tr>\n    <tr>\n      <th>2_trans_2026.csv</th>\n      <td>0.022571</td>\n      <td>0.000800</td>\n      <td>2.967816e-07</td>\n      <td>0.001721</td>\n      <td>1.025092e-04</td>\n      <td>1.090707e-04</td>\n      <td>-0.001818</td>\n      <td>-0.000468</td>\n      <td>-6.352513e-05</td>\n      <td>0.000269</td>\n      <td>...</td>\n      <td>-0.001820</td>\n      <td>0.002491</td>\n      <td>1.751070e-07</td>\n      <td>0.000263</td>\n      <td>0.057220</td>\n      <td>0.000026</td>\n      <td>0.000079</td>\n      <td>0.052127</td>\n      <td>-0.003519</td>\n      <td>1.344197e-05</td>\n    </tr>\n    <tr>\n      <th>2_trans_2976.csv</th>\n      <td>0.001265</td>\n      <td>0.000886</td>\n      <td>2.791327e-07</td>\n      <td>0.001907</td>\n      <td>5.745808e-07</td>\n      <td>7.481171e-07</td>\n      <td>-0.000158</td>\n      <td>-0.000519</td>\n      <td>-1.322612e-06</td>\n      <td>0.000004</td>\n      <td>...</td>\n      <td>-0.000158</td>\n      <td>0.002760</td>\n      <td>1.337964e-07</td>\n      <td>0.000003</td>\n      <td>0.010060</td>\n      <td>0.000011</td>\n      <td>0.000004</td>\n      <td>0.009173</td>\n      <td>-0.000498</td>\n      <td>1.028895e-08</td>\n    </tr>\n    <tr>\n      <th>2_trans_2838.csv</th>\n      <td>0.001478</td>\n      <td>0.001134</td>\n      <td>6.836915e-07</td>\n      <td>0.002440</td>\n      <td>1.291415e-05</td>\n      <td>7.580825e-06</td>\n      <td>0.000067</td>\n      <td>-0.000663</td>\n      <td>-4.413991e-07</td>\n      <td>0.000002</td>\n      <td>...</td>\n      <td>0.000066</td>\n      <td>0.003536</td>\n      <td>1.169306e-07</td>\n      <td>0.000002</td>\n      <td>-0.006628</td>\n      <td>0.000005</td>\n      <td>-0.000010</td>\n      <td>0.006088</td>\n      <td>0.000661</td>\n      <td>1.209771e-08</td>\n    </tr>\n    <tr>\n      <th>2_trans_633.csv</th>\n      <td>0.021966</td>\n      <td>0.000387</td>\n      <td>2.369389e-07</td>\n      <td>0.000833</td>\n      <td>1.550568e-04</td>\n      <td>1.668536e-04</td>\n      <td>-0.001769</td>\n      <td>-0.000226</td>\n      <td>-8.232733e-05</td>\n      <td>0.000349</td>\n      <td>...</td>\n      <td>-0.001770</td>\n      <td>0.001208</td>\n      <td>3.281433e-07</td>\n      <td>0.000340</td>\n      <td>0.010904</td>\n      <td>0.000008</td>\n      <td>0.000090</td>\n      <td>0.009856</td>\n      <td>-0.000416</td>\n      <td>1.191125e-05</td>\n    </tr>\n  </tbody>\n</table>\n<p>5 rows × 1829 columns</p>\n</div>"
     },
     "execution_count": 124,
     "metadata": {},
     "output_type": "execute_result"
    }
   ]
  },
  {
   "cell_type": "code",
   "source": [
    "StSc = StandardScaler()\n",
    "X_train_sc = StSc.fit_transform(X_train_filtered)\n",
    "X_val_sc = StSc.transform(X_val_filtered)"
   ],
   "metadata": {
    "execution": {
     "iopub.status.busy": "2023-08-20T09:06:59.751085Z",
     "iopub.execute_input": "2023-08-20T09:06:59.751446Z",
     "iopub.status.idle": "2023-08-20T09:06:59.889472Z",
     "shell.execute_reply.started": "2023-08-20T09:06:59.751420Z",
     "shell.execute_reply": "2023-08-20T09:06:59.888301Z"
    },
    "trusted": true,
    "ExecuteTime": {
     "end_time": "2023-08-20T17:51:56.924218393Z",
     "start_time": "2023-08-20T17:51:55.895356126Z"
    }
   },
   "execution_count": 125,
   "outputs": []
  },
  {
   "cell_type": "markdown",
   "source": [
    "### LogisticRegression"
   ],
   "metadata": {
    "collapsed": false
   }
  },
  {
   "cell_type": "code",
   "execution_count": 115,
   "outputs": [
    {
     "name": "stderr",
     "output_type": "stream",
     "text": [
      "/home/main/anaconda3/envs/scintific/lib/python3.10/site-packages/sklearn/utils/validation.py:1184: DataConversionWarning: A column-vector y was passed when a 1d array was expected. Please change the shape of y to (n_samples, ), for example using ravel().\n",
      "  y = column_or_1d(y, warn=True)\n"
     ]
    },
    {
     "name": "stdout",
     "output_type": "stream",
     "text": [
      "F1 on train set = 0.84\n",
      "F1 on test set = 0.78\n"
     ]
    },
    {
     "name": "stderr",
     "output_type": "stream",
     "text": [
      "/home/main/anaconda3/envs/scintific/lib/python3.10/site-packages/sklearn/linear_model/_sag.py:350: ConvergenceWarning: The max_iter was reached which means the coef_ did not converge\n",
      "  warnings.warn(\n"
     ]
    }
   ],
   "source": [
    "LogReg = LogisticRegression(solver='saga', verbose=0, n_jobs=-1, random_state=1, C=5)\n",
    "LogReg.fit(pd.DataFrame(X_train_sc).dropna(axis=1).values, y_train)\n",
    "\n",
    "y_train_pred_outliers = pd.DataFrame(LogReg.predict(X_train_sc), \n",
    "                                     index=y_train.index, \n",
    "                                     columns=y_train.columns)\n",
    "y_val_pred_outliers = pd.DataFrame(LogReg.predict(X_val_sc), \n",
    "                                   index=y_val.index, \n",
    "                                   columns=y_val.columns)\n",
    "\n",
    "f1_train = round(f1_score(y_train, y_train_pred_outliers), 2)\n",
    "f1_val = round(f1_score(y_val, y_val_pred_outliers), 2)\n",
    "print(f'F1 on train set = {f1_train}')\n",
    "print(f'F1 on test set = {f1_val}')"
   ],
   "metadata": {
    "collapsed": false,
    "ExecuteTime": {
     "end_time": "2023-08-20T17:44:42.793484580Z",
     "start_time": "2023-08-20T17:44:40.600727893Z"
    }
   }
  },
  {
   "cell_type": "markdown",
   "source": [
    "### SVC"
   ],
   "metadata": {
    "collapsed": false
   }
  },
  {
   "cell_type": "code",
   "execution_count": 116,
   "outputs": [],
   "source": [
    "from sklearn.svm import SVC as SVC_class"
   ],
   "metadata": {
    "collapsed": false,
    "ExecuteTime": {
     "end_time": "2023-08-20T17:44:42.794805222Z",
     "start_time": "2023-08-20T17:44:42.787894144Z"
    }
   }
  },
  {
   "cell_type": "code",
   "execution_count": 126,
   "outputs": [
    {
     "name": "stderr",
     "output_type": "stream",
     "text": [
      "/home/main/anaconda3/envs/scintific/lib/python3.10/site-packages/sklearn/utils/validation.py:1184: DataConversionWarning: A column-vector y was passed when a 1d array was expected. Please change the shape of y to (n_samples, ), for example using ravel().\n",
      "  y = column_or_1d(y, warn=True)\n"
     ]
    },
    {
     "name": "stdout",
     "output_type": "stream",
     "text": [
      "F1 on train set = 0.92\n",
      "F1 on test set = 0.77\n"
     ]
    }
   ],
   "source": [
    "SVC = SVC_class(verbose=0, random_state=1, C=5)\n",
    "SVC.fit(pd.DataFrame(X_train_sc).dropna(axis=1).values, y_train)\n",
    "\n",
    "y_train_pred_outliers = pd.DataFrame(SVC.predict(X_train_sc), \n",
    "                                     index=y_train.index, \n",
    "                                     columns=y_train.columns)\n",
    "y_val_pred_outliers = pd.DataFrame(SVC.predict(X_val_sc), \n",
    "                                   index=y_val.index, \n",
    "                                   columns=y_val.columns)\n",
    "f1_train = round(f1_score(y_train, y_train_pred_outliers), 2)\n",
    "f1_val = round(f1_score(y_val, y_val_pred_outliers), 2)\n",
    "print(f'F1 on train set = {f1_train}')\n",
    "print(f'F1 on test set = {f1_val}')"
   ],
   "metadata": {
    "collapsed": false,
    "ExecuteTime": {
     "end_time": "2023-08-20T17:52:10.222492763Z",
     "start_time": "2023-08-20T17:52:08.458030744Z"
    }
   }
  },
  {
   "cell_type": "markdown",
   "source": [
    "### Stage 2: gradient boosting regression"
   ],
   "metadata": {
    "collapsed": false
   }
  },
  {
   "cell_type": "code",
   "execution_count": 132,
   "outputs": [],
   "source": [
    "y = y_data.copy()\n",
    "\n",
    "X_train, X_val, y_train, y_val = train_test_split(X, y, test_size=0.15, random_state=1)\n",
    "\n",
    "X_train_filtered = select_features(X_train.dropna(axis=1), pd.Series(y_train['predicted']), ml_task='regression',  fdr_level=1e-15)\n",
    "relevant_features = set(X_train_filtered.columns)\n",
    "\n",
    "X_train_filtered = X_train[list(relevant_features)]\n",
    "X_val_filtered = X_val[list(relevant_features)]\n",
    "\n",
    "StSc = StandardScaler()\n",
    "# X_train_wo_outliers_sc = StSc.fit_transform(X_train_wo_outliers)\n",
    "X_train_sc = StSc.fit_transform(X_train_filtered)\n",
    "X_val_sc = StSc.transform(X_val_filtered)"
   ],
   "metadata": {
    "collapsed": false,
    "ExecuteTime": {
     "end_time": "2023-08-20T17:56:05.098349257Z",
     "start_time": "2023-08-20T17:56:03.734488903Z"
    }
   }
  },
  {
   "cell_type": "code",
   "execution_count": 133,
   "outputs": [
    {
     "data": {
      "text/plain": "(1785, 1803)"
     },
     "execution_count": 133,
     "metadata": {},
     "output_type": "execute_result"
    }
   ],
   "source": [
    "X_train_sc.shape"
   ],
   "metadata": {
    "collapsed": false,
    "ExecuteTime": {
     "end_time": "2023-08-20T17:56:07.578660721Z",
     "start_time": "2023-08-20T17:56:07.576206218Z"
    }
   }
  },
  {
   "cell_type": "code",
   "source": [
    "cbr = CatBoostRegressor(random_state=1,task_type='GPU', verbose=1, learning_rate=0.01, early_stopping_rounds=2, od_pval=0.01, depth=15, max_leaves=100, grow_policy='Lossguide', iterations=500)\n",
    "cbr.fit(X_train_sc, y_train)\n",
    "\n",
    "y_train_pred = pd.DataFrame(cbr.predict(X_train_sc), \n",
    "                            index=y_train.index, \n",
    "                            columns=y_train.columns)\n",
    "y_val_pred = pd.DataFrame(cbr.predict(X_val_sc), \n",
    "                          index=y_val.index, \n",
    "                          columns=y_val.columns)"
   ],
   "metadata": {
    "execution": {
     "iopub.status.busy": "2023-08-20T09:11:30.966026Z",
     "iopub.execute_input": "2023-08-20T09:11:30.966393Z",
     "iopub.status.idle": "2023-08-20T09:15:33.835730Z",
     "shell.execute_reply.started": "2023-08-20T09:11:30.966367Z",
     "shell.execute_reply": "2023-08-20T09:15:33.834780Z"
    },
    "trusted": true,
    "ExecuteTime": {
     "end_time": "2023-08-21T10:18:28.756660586Z",
     "start_time": "2023-08-21T10:17:57.324251652Z"
    }
   },
   "execution_count": 149,
   "outputs": [
    {
     "name": "stdout",
     "output_type": "stream",
     "text": [
      "0:\tlearn: 241.7494316\ttotal: 78.5ms\tremaining: 39.2s\n",
      "1:\tlearn: 239.7033928\ttotal: 143ms\tremaining: 35.6s\n",
      "2:\tlearn: 237.6530154\ttotal: 208ms\tremaining: 34.4s\n",
      "3:\tlearn: 235.6275464\ttotal: 277ms\tremaining: 34.4s\n",
      "4:\tlearn: 233.6172358\ttotal: 352ms\tremaining: 34.8s\n",
      "5:\tlearn: 231.6544321\ttotal: 416ms\tremaining: 34.2s\n",
      "6:\tlearn: 229.6820552\ttotal: 478ms\tremaining: 33.7s\n",
      "7:\tlearn: 227.7135947\ttotal: 538ms\tremaining: 33.1s\n",
      "8:\tlearn: 225.7904931\ttotal: 605ms\tremaining: 33s\n",
      "9:\tlearn: 223.8993972\ttotal: 667ms\tremaining: 32.7s\n",
      "10:\tlearn: 221.9933933\ttotal: 724ms\tremaining: 32.2s\n",
      "11:\tlearn: 220.1127697\ttotal: 782ms\tremaining: 31.8s\n",
      "12:\tlearn: 218.2361274\ttotal: 851ms\tremaining: 31.9s\n",
      "13:\tlearn: 216.4143034\ttotal: 907ms\tremaining: 31.5s\n",
      "14:\tlearn: 214.5936685\ttotal: 968ms\tremaining: 31.3s\n",
      "15:\tlearn: 212.7952317\ttotal: 1.04s\tremaining: 31.4s\n",
      "16:\tlearn: 210.9895905\ttotal: 1.1s\tremaining: 31.1s\n",
      "17:\tlearn: 209.2075699\ttotal: 1.16s\tremaining: 31.1s\n",
      "18:\tlearn: 207.4524143\ttotal: 1.22s\tremaining: 30.9s\n",
      "19:\tlearn: 205.6998983\ttotal: 1.29s\tremaining: 30.9s\n",
      "20:\tlearn: 204.0052726\ttotal: 1.35s\tremaining: 30.8s\n",
      "21:\tlearn: 202.3144625\ttotal: 1.41s\tremaining: 30.6s\n",
      "22:\tlearn: 200.6120607\ttotal: 1.47s\tremaining: 30.5s\n",
      "23:\tlearn: 198.9107256\ttotal: 1.54s\tremaining: 30.5s\n",
      "24:\tlearn: 197.2348910\ttotal: 1.6s\tremaining: 30.5s\n",
      "25:\tlearn: 195.5974486\ttotal: 1.66s\tremaining: 30.3s\n",
      "26:\tlearn: 193.9557719\ttotal: 1.72s\tremaining: 30.2s\n",
      "27:\tlearn: 192.3437050\ttotal: 1.79s\tremaining: 30.2s\n",
      "28:\tlearn: 190.7258845\ttotal: 1.85s\tremaining: 30.1s\n",
      "29:\tlearn: 189.1590116\ttotal: 1.91s\tremaining: 29.9s\n",
      "30:\tlearn: 187.5863021\ttotal: 1.97s\tremaining: 29.8s\n",
      "31:\tlearn: 186.0362363\ttotal: 2.04s\tremaining: 29.8s\n",
      "32:\tlearn: 184.5011444\ttotal: 2.1s\tremaining: 29.7s\n",
      "33:\tlearn: 182.9941084\ttotal: 2.15s\tremaining: 29.5s\n",
      "34:\tlearn: 181.4781141\ttotal: 2.38s\tremaining: 31.7s\n",
      "35:\tlearn: 179.9820097\ttotal: 2.45s\tremaining: 31.6s\n",
      "36:\tlearn: 178.5216477\ttotal: 2.52s\tremaining: 31.5s\n",
      "37:\tlearn: 177.0419628\ttotal: 2.59s\tremaining: 31.4s\n",
      "38:\tlearn: 175.5845172\ttotal: 2.81s\tremaining: 33.2s\n",
      "39:\tlearn: 174.1282505\ttotal: 2.87s\tremaining: 33s\n",
      "40:\tlearn: 172.6880771\ttotal: 2.93s\tremaining: 32.8s\n",
      "41:\tlearn: 171.2771077\ttotal: 2.99s\tremaining: 32.6s\n",
      "42:\tlearn: 169.8823056\ttotal: 3.06s\tremaining: 32.5s\n",
      "43:\tlearn: 168.4834447\ttotal: 3.12s\tremaining: 32.3s\n",
      "44:\tlearn: 167.1147813\ttotal: 3.18s\tremaining: 32.1s\n",
      "45:\tlearn: 165.7712980\ttotal: 3.24s\tremaining: 31.9s\n",
      "46:\tlearn: 164.4193654\ttotal: 3.31s\tremaining: 31.9s\n",
      "47:\tlearn: 163.1051490\ttotal: 3.43s\tremaining: 32.3s\n",
      "48:\tlearn: 161.7865523\ttotal: 3.5s\tremaining: 32.3s\n",
      "49:\tlearn: 160.4698773\ttotal: 3.57s\tremaining: 32.2s\n",
      "50:\tlearn: 159.1787748\ttotal: 3.63s\tremaining: 32s\n",
      "51:\tlearn: 157.8951040\ttotal: 3.69s\tremaining: 31.8s\n",
      "52:\tlearn: 156.6307152\ttotal: 3.75s\tremaining: 31.6s\n",
      "53:\tlearn: 155.3680369\ttotal: 3.82s\tremaining: 31.5s\n",
      "54:\tlearn: 154.1288558\ttotal: 3.88s\tremaining: 31.4s\n",
      "55:\tlearn: 152.8689375\ttotal: 3.94s\tremaining: 31.2s\n",
      "56:\tlearn: 151.6716710\ttotal: 4s\tremaining: 31.1s\n",
      "57:\tlearn: 150.4638877\ttotal: 4.07s\tremaining: 31s\n",
      "58:\tlearn: 149.2772804\ttotal: 4.13s\tremaining: 30.9s\n",
      "59:\tlearn: 148.0918709\ttotal: 4.19s\tremaining: 30.7s\n",
      "60:\tlearn: 146.9166955\ttotal: 4.25s\tremaining: 30.6s\n",
      "61:\tlearn: 145.7487266\ttotal: 4.42s\tremaining: 31.2s\n",
      "62:\tlearn: 144.5767163\ttotal: 4.53s\tremaining: 31.4s\n",
      "63:\tlearn: 143.4256364\ttotal: 4.62s\tremaining: 31.5s\n",
      "64:\tlearn: 142.2975854\ttotal: 4.72s\tremaining: 31.6s\n",
      "65:\tlearn: 141.1789813\ttotal: 4.97s\tremaining: 32.7s\n",
      "66:\tlearn: 140.0700265\ttotal: 5.03s\tremaining: 32.5s\n",
      "67:\tlearn: 138.9680898\ttotal: 5.09s\tremaining: 32.3s\n",
      "68:\tlearn: 137.8788003\ttotal: 5.15s\tremaining: 32.2s\n",
      "69:\tlearn: 136.7614784\ttotal: 5.22s\tremaining: 32.1s\n",
      "70:\tlearn: 135.6764482\ttotal: 5.28s\tremaining: 31.9s\n",
      "71:\tlearn: 134.6328049\ttotal: 5.34s\tremaining: 31.8s\n",
      "72:\tlearn: 133.6043744\ttotal: 5.4s\tremaining: 31.6s\n",
      "73:\tlearn: 132.5325815\ttotal: 5.47s\tremaining: 31.5s\n",
      "74:\tlearn: 131.5172353\ttotal: 5.53s\tremaining: 31.4s\n",
      "75:\tlearn: 130.4919500\ttotal: 5.59s\tremaining: 31.2s\n",
      "76:\tlearn: 129.4814653\ttotal: 5.65s\tremaining: 31.1s\n",
      "77:\tlearn: 128.4797862\ttotal: 5.72s\tremaining: 31s\n",
      "78:\tlearn: 127.4733783\ttotal: 5.78s\tremaining: 30.8s\n",
      "79:\tlearn: 126.4906502\ttotal: 5.84s\tremaining: 30.7s\n",
      "80:\tlearn: 125.5019725\ttotal: 5.9s\tremaining: 30.5s\n",
      "81:\tlearn: 124.5442380\ttotal: 5.97s\tremaining: 30.4s\n",
      "82:\tlearn: 123.5965425\ttotal: 6.03s\tremaining: 30.3s\n",
      "83:\tlearn: 122.6296102\ttotal: 6.08s\tremaining: 30.1s\n",
      "84:\tlearn: 121.6877300\ttotal: 6.13s\tremaining: 29.9s\n",
      "85:\tlearn: 120.7561424\ttotal: 6.19s\tremaining: 29.8s\n",
      "86:\tlearn: 119.8334372\ttotal: 6.24s\tremaining: 29.6s\n",
      "87:\tlearn: 118.9077933\ttotal: 6.29s\tremaining: 29.5s\n",
      "88:\tlearn: 118.0029815\ttotal: 6.35s\tremaining: 29.3s\n",
      "89:\tlearn: 117.1207235\ttotal: 6.4s\tremaining: 29.2s\n",
      "90:\tlearn: 116.2314700\ttotal: 6.46s\tremaining: 29s\n",
      "91:\tlearn: 115.3474644\ttotal: 6.52s\tremaining: 28.9s\n",
      "92:\tlearn: 114.4658426\ttotal: 6.57s\tremaining: 28.7s\n",
      "93:\tlearn: 113.5988618\ttotal: 6.62s\tremaining: 28.6s\n",
      "94:\tlearn: 112.7440472\ttotal: 6.68s\tremaining: 28.5s\n",
      "95:\tlearn: 111.8990742\ttotal: 6.73s\tremaining: 28.3s\n",
      "96:\tlearn: 111.0527974\ttotal: 6.79s\tremaining: 28.2s\n",
      "97:\tlearn: 110.2369030\ttotal: 6.84s\tremaining: 28.1s\n",
      "98:\tlearn: 109.4077614\ttotal: 6.9s\tremaining: 27.9s\n",
      "99:\tlearn: 108.5789287\ttotal: 6.96s\tremaining: 27.8s\n",
      "100:\tlearn: 107.7738269\ttotal: 7.01s\tremaining: 27.7s\n",
      "101:\tlearn: 106.9657606\ttotal: 7.07s\tremaining: 27.6s\n",
      "102:\tlearn: 106.1529313\ttotal: 7.12s\tremaining: 27.5s\n",
      "103:\tlearn: 105.3700961\ttotal: 7.23s\tremaining: 27.5s\n",
      "104:\tlearn: 104.5642097\ttotal: 7.33s\tremaining: 27.6s\n",
      "105:\tlearn: 103.8046107\ttotal: 7.39s\tremaining: 27.5s\n",
      "106:\tlearn: 103.0272815\ttotal: 7.44s\tremaining: 27.3s\n",
      "107:\tlearn: 102.2674091\ttotal: 7.49s\tremaining: 27.2s\n",
      "108:\tlearn: 101.5176159\ttotal: 7.57s\tremaining: 27.2s\n",
      "109:\tlearn: 100.7945799\ttotal: 7.7s\tremaining: 27.3s\n",
      "110:\tlearn: 100.0555756\ttotal: 7.76s\tremaining: 27.2s\n",
      "111:\tlearn: 99.3163240\ttotal: 7.82s\tremaining: 27.1s\n",
      "112:\tlearn: 98.6077991\ttotal: 7.97s\tremaining: 27.3s\n",
      "113:\tlearn: 97.8838333\ttotal: 8.05s\tremaining: 27.3s\n",
      "114:\tlearn: 97.1574886\ttotal: 8.11s\tremaining: 27.1s\n",
      "115:\tlearn: 96.4421192\ttotal: 8.24s\tremaining: 27.3s\n",
      "116:\tlearn: 95.7179476\ttotal: 8.32s\tremaining: 27.2s\n",
      "117:\tlearn: 95.0269901\ttotal: 8.38s\tremaining: 27.1s\n",
      "118:\tlearn: 94.3413761\ttotal: 8.52s\tremaining: 27.3s\n",
      "119:\tlearn: 93.6624669\ttotal: 8.6s\tremaining: 27.2s\n",
      "120:\tlearn: 92.9941807\ttotal: 8.66s\tremaining: 27.1s\n",
      "121:\tlearn: 92.3430761\ttotal: 8.8s\tremaining: 27.3s\n",
      "122:\tlearn: 91.6881177\ttotal: 8.88s\tremaining: 27.2s\n",
      "123:\tlearn: 91.0383919\ttotal: 8.94s\tremaining: 27.1s\n",
      "124:\tlearn: 90.4062044\ttotal: 9.09s\tremaining: 27.3s\n",
      "125:\tlearn: 89.7668814\ttotal: 9.15s\tremaining: 27.2s\n",
      "126:\tlearn: 89.1398203\ttotal: 9.25s\tremaining: 27.2s\n",
      "127:\tlearn: 88.4981191\ttotal: 9.37s\tremaining: 27.2s\n",
      "128:\tlearn: 87.8706268\ttotal: 9.43s\tremaining: 27.1s\n",
      "129:\tlearn: 87.2558747\ttotal: 9.54s\tremaining: 27.2s\n",
      "130:\tlearn: 86.6611289\ttotal: 9.66s\tremaining: 27.2s\n",
      "131:\tlearn: 86.0541097\ttotal: 9.71s\tremaining: 27.1s\n",
      "132:\tlearn: 85.4632655\ttotal: 9.81s\tremaining: 27.1s\n",
      "133:\tlearn: 84.8546954\ttotal: 9.94s\tremaining: 27.1s\n",
      "134:\tlearn: 84.2461313\ttotal: 9.99s\tremaining: 27s\n",
      "135:\tlearn: 83.6502389\ttotal: 10s\tremaining: 26.9s\n",
      "136:\tlearn: 83.0606204\ttotal: 10.2s\tremaining: 27s\n",
      "137:\tlearn: 82.4863455\ttotal: 10.3s\tremaining: 26.9s\n",
      "138:\tlearn: 81.9106434\ttotal: 10.3s\tremaining: 26.8s\n",
      "139:\tlearn: 81.3545479\ttotal: 10.4s\tremaining: 26.8s\n",
      "140:\tlearn: 80.7923194\ttotal: 10.5s\tremaining: 26.8s\n",
      "141:\tlearn: 80.2438860\ttotal: 10.6s\tremaining: 26.7s\n",
      "142:\tlearn: 79.6918364\ttotal: 10.7s\tremaining: 26.7s\n",
      "143:\tlearn: 79.1457118\ttotal: 10.8s\tremaining: 26.7s\n",
      "144:\tlearn: 78.5870389\ttotal: 10.9s\tremaining: 26.6s\n",
      "145:\tlearn: 78.0448553\ttotal: 11s\tremaining: 26.6s\n",
      "146:\tlearn: 77.5083875\ttotal: 11.1s\tremaining: 26.6s\n",
      "147:\tlearn: 76.9812630\ttotal: 11.1s\tremaining: 26.5s\n",
      "148:\tlearn: 76.4698765\ttotal: 11.2s\tremaining: 26.4s\n",
      "149:\tlearn: 75.9741516\ttotal: 11.3s\tremaining: 26.4s\n",
      "150:\tlearn: 75.4659921\ttotal: 11.4s\tremaining: 26.2s\n",
      "151:\tlearn: 74.9619922\ttotal: 11.4s\tremaining: 26.1s\n",
      "152:\tlearn: 74.4743221\ttotal: 11.5s\tremaining: 26s\n",
      "153:\tlearn: 73.9647959\ttotal: 11.5s\tremaining: 25.9s\n",
      "154:\tlearn: 73.4571427\ttotal: 11.7s\tremaining: 25.9s\n",
      "155:\tlearn: 72.9942172\ttotal: 11.7s\tremaining: 25.8s\n",
      "156:\tlearn: 72.5202609\ttotal: 11.8s\tremaining: 25.7s\n",
      "157:\tlearn: 72.0263491\ttotal: 11.8s\tremaining: 25.6s\n",
      "158:\tlearn: 71.5636717\ttotal: 11.9s\tremaining: 25.5s\n",
      "159:\tlearn: 71.0852173\ttotal: 11.9s\tremaining: 25.4s\n",
      "160:\tlearn: 70.6300775\ttotal: 12s\tremaining: 25.2s\n",
      "161:\tlearn: 70.1599533\ttotal: 12s\tremaining: 25.1s\n",
      "162:\tlearn: 69.6904279\ttotal: 12.1s\tremaining: 25s\n",
      "163:\tlearn: 69.2221650\ttotal: 12.2s\tremaining: 24.9s\n",
      "164:\tlearn: 68.7606493\ttotal: 12.2s\tremaining: 24.8s\n",
      "165:\tlearn: 68.3163059\ttotal: 12.3s\tremaining: 24.7s\n",
      "166:\tlearn: 67.8578387\ttotal: 12.3s\tremaining: 24.6s\n",
      "167:\tlearn: 67.4351520\ttotal: 12.4s\tremaining: 24.5s\n",
      "168:\tlearn: 66.9914707\ttotal: 12.4s\tremaining: 24.4s\n",
      "169:\tlearn: 66.5645471\ttotal: 12.5s\tremaining: 24.3s\n",
      "170:\tlearn: 66.1493641\ttotal: 12.6s\tremaining: 24.1s\n",
      "171:\tlearn: 65.7324302\ttotal: 12.6s\tremaining: 24s\n",
      "172:\tlearn: 65.3073149\ttotal: 12.7s\tremaining: 23.9s\n",
      "173:\tlearn: 64.8859245\ttotal: 12.7s\tremaining: 23.8s\n",
      "174:\tlearn: 64.4558151\ttotal: 12.8s\tremaining: 23.7s\n",
      "175:\tlearn: 64.0261107\ttotal: 12.8s\tremaining: 23.6s\n",
      "176:\tlearn: 63.6213743\ttotal: 12.9s\tremaining: 23.5s\n",
      "177:\tlearn: 63.2039870\ttotal: 12.9s\tremaining: 23.4s\n",
      "178:\tlearn: 62.7923303\ttotal: 13s\tremaining: 23.3s\n",
      "179:\tlearn: 62.4101550\ttotal: 13.1s\tremaining: 23.2s\n",
      "180:\tlearn: 62.0291045\ttotal: 13.1s\tremaining: 23.1s\n",
      "181:\tlearn: 61.6404161\ttotal: 13.2s\tremaining: 23s\n",
      "182:\tlearn: 61.2524189\ttotal: 13.2s\tremaining: 22.9s\n",
      "183:\tlearn: 60.8571317\ttotal: 13.3s\tremaining: 22.8s\n",
      "184:\tlearn: 60.4774792\ttotal: 13.3s\tremaining: 22.7s\n",
      "185:\tlearn: 60.1107428\ttotal: 13.4s\tremaining: 22.6s\n",
      "186:\tlearn: 59.7541087\ttotal: 13.4s\tremaining: 22.5s\n",
      "187:\tlearn: 59.3714321\ttotal: 13.5s\tremaining: 22.4s\n",
      "188:\tlearn: 59.0152713\ttotal: 13.6s\tremaining: 22.3s\n",
      "189:\tlearn: 58.6450893\ttotal: 13.6s\tremaining: 22.2s\n",
      "190:\tlearn: 58.2794990\ttotal: 13.7s\tremaining: 22.1s\n",
      "191:\tlearn: 57.9348422\ttotal: 13.7s\tremaining: 22s\n",
      "192:\tlearn: 57.5700523\ttotal: 13.8s\tremaining: 21.9s\n",
      "193:\tlearn: 57.2081902\ttotal: 13.8s\tremaining: 21.8s\n",
      "194:\tlearn: 56.8704262\ttotal: 13.9s\tremaining: 21.7s\n",
      "195:\tlearn: 56.5338623\ttotal: 14s\tremaining: 21.7s\n",
      "196:\tlearn: 56.1954074\ttotal: 14s\tremaining: 21.6s\n",
      "197:\tlearn: 55.8444619\ttotal: 14.1s\tremaining: 21.5s\n",
      "198:\tlearn: 55.5001804\ttotal: 14.1s\tremaining: 21.4s\n",
      "199:\tlearn: 55.1813486\ttotal: 14.2s\tremaining: 21.3s\n",
      "200:\tlearn: 54.8567220\ttotal: 14.2s\tremaining: 21.2s\n",
      "201:\tlearn: 54.5302296\ttotal: 14.3s\tremaining: 21.1s\n",
      "202:\tlearn: 54.2094444\ttotal: 14.4s\tremaining: 21s\n",
      "203:\tlearn: 53.9056287\ttotal: 14.4s\tremaining: 20.9s\n",
      "204:\tlearn: 53.5828033\ttotal: 14.5s\tremaining: 20.8s\n",
      "205:\tlearn: 53.2669405\ttotal: 14.5s\tremaining: 20.7s\n",
      "206:\tlearn: 52.9484793\ttotal: 14.6s\tremaining: 20.6s\n",
      "207:\tlearn: 52.6219885\ttotal: 14.6s\tremaining: 20.5s\n",
      "208:\tlearn: 52.3118102\ttotal: 14.7s\tremaining: 20.5s\n",
      "209:\tlearn: 51.9932041\ttotal: 14.7s\tremaining: 20.4s\n",
      "210:\tlearn: 51.7010476\ttotal: 14.8s\tremaining: 20.3s\n",
      "211:\tlearn: 51.3920996\ttotal: 14.9s\tremaining: 20.2s\n",
      "212:\tlearn: 51.0973476\ttotal: 14.9s\tremaining: 20.1s\n",
      "213:\tlearn: 50.8052634\ttotal: 15s\tremaining: 20s\n",
      "214:\tlearn: 50.5007446\ttotal: 15s\tremaining: 19.9s\n",
      "215:\tlearn: 50.2212305\ttotal: 15.1s\tremaining: 19.8s\n",
      "216:\tlearn: 49.9420701\ttotal: 15.1s\tremaining: 19.7s\n",
      "217:\tlearn: 49.6730656\ttotal: 15.2s\tremaining: 19.6s\n",
      "218:\tlearn: 49.3987151\ttotal: 15.2s\tremaining: 19.6s\n",
      "219:\tlearn: 49.1173693\ttotal: 15.3s\tremaining: 19.5s\n",
      "220:\tlearn: 48.8383001\ttotal: 15.4s\tremaining: 19.4s\n",
      "221:\tlearn: 48.5610707\ttotal: 15.4s\tremaining: 19.3s\n",
      "222:\tlearn: 48.2839292\ttotal: 15.5s\tremaining: 19.2s\n",
      "223:\tlearn: 48.0212853\ttotal: 15.5s\tremaining: 19.1s\n",
      "224:\tlearn: 47.7441067\ttotal: 15.6s\tremaining: 19s\n",
      "225:\tlearn: 47.4673115\ttotal: 15.6s\tremaining: 18.9s\n",
      "226:\tlearn: 47.2059615\ttotal: 15.7s\tremaining: 18.9s\n",
      "227:\tlearn: 46.9398492\ttotal: 15.7s\tremaining: 18.8s\n",
      "228:\tlearn: 46.6894307\ttotal: 15.8s\tremaining: 18.7s\n",
      "229:\tlearn: 46.4290459\ttotal: 15.8s\tremaining: 18.6s\n",
      "230:\tlearn: 46.1838959\ttotal: 15.9s\tremaining: 18.5s\n",
      "231:\tlearn: 45.9154777\ttotal: 16s\tremaining: 18.4s\n",
      "232:\tlearn: 45.6797769\ttotal: 16s\tremaining: 18.4s\n",
      "233:\tlearn: 45.4272343\ttotal: 16.1s\tremaining: 18.3s\n",
      "234:\tlearn: 45.1707343\ttotal: 16.1s\tremaining: 18.2s\n",
      "235:\tlearn: 44.9260254\ttotal: 16.2s\tremaining: 18.1s\n",
      "236:\tlearn: 44.6723772\ttotal: 16.2s\tremaining: 18s\n",
      "237:\tlearn: 44.4290673\ttotal: 16.3s\tremaining: 17.9s\n",
      "238:\tlearn: 44.1799969\ttotal: 16.4s\tremaining: 17.9s\n",
      "239:\tlearn: 43.9520206\ttotal: 16.4s\tremaining: 17.8s\n",
      "240:\tlearn: 43.7225961\ttotal: 16.5s\tremaining: 17.7s\n",
      "241:\tlearn: 43.4844735\ttotal: 16.5s\tremaining: 17.6s\n",
      "242:\tlearn: 43.2610472\ttotal: 16.6s\tremaining: 17.5s\n",
      "243:\tlearn: 43.0372323\ttotal: 16.6s\tremaining: 17.5s\n",
      "244:\tlearn: 42.8247634\ttotal: 16.7s\tremaining: 17.4s\n",
      "245:\tlearn: 42.6020886\ttotal: 16.7s\tremaining: 17.3s\n",
      "246:\tlearn: 42.3812710\ttotal: 16.8s\tremaining: 17.2s\n",
      "247:\tlearn: 42.1634143\ttotal: 16.9s\tremaining: 17.1s\n",
      "248:\tlearn: 41.9470872\ttotal: 16.9s\tremaining: 17s\n",
      "249:\tlearn: 41.7318202\ttotal: 17s\tremaining: 17s\n",
      "250:\tlearn: 41.5236695\ttotal: 17s\tremaining: 16.9s\n",
      "251:\tlearn: 41.2959056\ttotal: 17.1s\tremaining: 16.8s\n",
      "252:\tlearn: 41.0720348\ttotal: 17.1s\tremaining: 16.7s\n",
      "253:\tlearn: 40.8593612\ttotal: 17.2s\tremaining: 16.6s\n",
      "254:\tlearn: 40.6567961\ttotal: 17.2s\tremaining: 16.6s\n",
      "255:\tlearn: 40.4451560\ttotal: 17.3s\tremaining: 16.5s\n",
      "256:\tlearn: 40.2279064\ttotal: 17.4s\tremaining: 16.4s\n",
      "257:\tlearn: 40.0225637\ttotal: 17.4s\tremaining: 16.3s\n",
      "258:\tlearn: 39.8095360\ttotal: 17.5s\tremaining: 16.3s\n",
      "259:\tlearn: 39.6179585\ttotal: 17.5s\tremaining: 16.2s\n",
      "260:\tlearn: 39.4208031\ttotal: 17.6s\tremaining: 16.1s\n",
      "261:\tlearn: 39.2405085\ttotal: 17.6s\tremaining: 16s\n",
      "262:\tlearn: 39.0514743\ttotal: 17.7s\tremaining: 15.9s\n",
      "263:\tlearn: 38.8524898\ttotal: 17.7s\tremaining: 15.9s\n",
      "264:\tlearn: 38.6562383\ttotal: 17.8s\tremaining: 15.8s\n",
      "265:\tlearn: 38.4662317\ttotal: 17.9s\tremaining: 15.7s\n",
      "266:\tlearn: 38.2872418\ttotal: 17.9s\tremaining: 15.6s\n",
      "267:\tlearn: 38.0905710\ttotal: 18s\tremaining: 15.6s\n",
      "268:\tlearn: 37.9098813\ttotal: 18s\tremaining: 15.5s\n",
      "269:\tlearn: 37.7324727\ttotal: 18.1s\tremaining: 15.4s\n",
      "270:\tlearn: 37.5349585\ttotal: 18.1s\tremaining: 15.3s\n",
      "271:\tlearn: 37.3555312\ttotal: 18.2s\tremaining: 15.3s\n",
      "272:\tlearn: 37.1797624\ttotal: 18.2s\tremaining: 15.2s\n",
      "273:\tlearn: 36.9977817\ttotal: 18.3s\tremaining: 15.1s\n",
      "274:\tlearn: 36.8183747\ttotal: 18.4s\tremaining: 15s\n",
      "275:\tlearn: 36.6409083\ttotal: 18.4s\tremaining: 14.9s\n",
      "276:\tlearn: 36.4714423\ttotal: 18.5s\tremaining: 14.9s\n",
      "277:\tlearn: 36.2997654\ttotal: 18.5s\tremaining: 14.8s\n",
      "278:\tlearn: 36.1292924\ttotal: 18.6s\tremaining: 14.7s\n",
      "279:\tlearn: 35.9609635\ttotal: 18.6s\tremaining: 14.6s\n",
      "280:\tlearn: 35.7981737\ttotal: 18.7s\tremaining: 14.6s\n",
      "281:\tlearn: 35.6322762\ttotal: 18.7s\tremaining: 14.5s\n",
      "282:\tlearn: 35.4660942\ttotal: 18.8s\tremaining: 14.4s\n",
      "283:\tlearn: 35.3007110\ttotal: 18.9s\tremaining: 14.3s\n",
      "284:\tlearn: 35.1335786\ttotal: 18.9s\tremaining: 14.3s\n",
      "285:\tlearn: 34.9618900\ttotal: 19s\tremaining: 14.2s\n",
      "286:\tlearn: 34.7912281\ttotal: 19s\tremaining: 14.1s\n",
      "287:\tlearn: 34.6243871\ttotal: 19.1s\tremaining: 14.1s\n",
      "288:\tlearn: 34.4586424\ttotal: 19.1s\tremaining: 14s\n",
      "289:\tlearn: 34.3050964\ttotal: 19.2s\tremaining: 13.9s\n",
      "290:\tlearn: 34.1569977\ttotal: 19.3s\tremaining: 13.8s\n",
      "291:\tlearn: 33.9958722\ttotal: 19.3s\tremaining: 13.8s\n",
      "292:\tlearn: 33.8519908\ttotal: 19.4s\tremaining: 13.7s\n",
      "293:\tlearn: 33.7085984\ttotal: 19.4s\tremaining: 13.6s\n",
      "294:\tlearn: 33.5574740\ttotal: 19.5s\tremaining: 13.5s\n",
      "295:\tlearn: 33.4136843\ttotal: 19.5s\tremaining: 13.5s\n",
      "296:\tlearn: 33.2662788\ttotal: 19.6s\tremaining: 13.4s\n",
      "297:\tlearn: 33.1177341\ttotal: 19.6s\tremaining: 13.3s\n",
      "298:\tlearn: 32.9677905\ttotal: 19.7s\tremaining: 13.2s\n",
      "299:\tlearn: 32.8258103\ttotal: 19.8s\tremaining: 13.2s\n",
      "300:\tlearn: 32.6796950\ttotal: 19.8s\tremaining: 13.1s\n",
      "301:\tlearn: 32.5329137\ttotal: 19.9s\tremaining: 13s\n",
      "302:\tlearn: 32.4040968\ttotal: 19.9s\tremaining: 13s\n",
      "303:\tlearn: 32.2659858\ttotal: 20s\tremaining: 12.9s\n",
      "304:\tlearn: 32.1229366\ttotal: 20s\tremaining: 12.8s\n",
      "305:\tlearn: 31.9840778\ttotal: 20.1s\tremaining: 12.7s\n",
      "306:\tlearn: 31.8478130\ttotal: 20.2s\tremaining: 12.7s\n",
      "307:\tlearn: 31.7209935\ttotal: 20.2s\tremaining: 12.6s\n",
      "308:\tlearn: 31.5779548\ttotal: 20.3s\tremaining: 12.5s\n",
      "309:\tlearn: 31.4505770\ttotal: 20.3s\tremaining: 12.5s\n",
      "310:\tlearn: 31.3251204\ttotal: 20.4s\tremaining: 12.4s\n",
      "311:\tlearn: 31.1901382\ttotal: 20.4s\tremaining: 12.3s\n",
      "312:\tlearn: 31.0586979\ttotal: 20.5s\tremaining: 12.2s\n",
      "313:\tlearn: 30.9259179\ttotal: 20.5s\tremaining: 12.2s\n",
      "314:\tlearn: 30.7900203\ttotal: 20.6s\tremaining: 12.1s\n",
      "315:\tlearn: 30.6664946\ttotal: 20.7s\tremaining: 12s\n",
      "316:\tlearn: 30.5305032\ttotal: 20.7s\tremaining: 12s\n",
      "317:\tlearn: 30.4126453\ttotal: 20.8s\tremaining: 11.9s\n",
      "318:\tlearn: 30.2832658\ttotal: 20.8s\tremaining: 11.8s\n",
      "319:\tlearn: 30.1533766\ttotal: 20.9s\tremaining: 11.7s\n",
      "320:\tlearn: 30.0332740\ttotal: 20.9s\tremaining: 11.7s\n",
      "321:\tlearn: 29.9116896\ttotal: 21s\tremaining: 11.6s\n",
      "322:\tlearn: 29.7894044\ttotal: 21s\tremaining: 11.5s\n",
      "323:\tlearn: 29.6720815\ttotal: 21.1s\tremaining: 11.5s\n",
      "324:\tlearn: 29.5451584\ttotal: 21.1s\tremaining: 11.4s\n",
      "325:\tlearn: 29.4236300\ttotal: 21.2s\tremaining: 11.3s\n",
      "326:\tlearn: 29.3085345\ttotal: 21.3s\tremaining: 11.3s\n",
      "327:\tlearn: 29.1821935\ttotal: 21.3s\tremaining: 11.2s\n",
      "328:\tlearn: 29.0728005\ttotal: 21.4s\tremaining: 11.1s\n",
      "329:\tlearn: 28.9594024\ttotal: 21.4s\tremaining: 11s\n",
      "330:\tlearn: 28.8378933\ttotal: 21.5s\tremaining: 11s\n",
      "331:\tlearn: 28.7137727\ttotal: 21.5s\tremaining: 10.9s\n",
      "332:\tlearn: 28.6022271\ttotal: 21.6s\tremaining: 10.8s\n",
      "333:\tlearn: 28.4829597\ttotal: 21.6s\tremaining: 10.8s\n",
      "334:\tlearn: 28.3687046\ttotal: 21.7s\tremaining: 10.7s\n",
      "335:\tlearn: 28.2566221\ttotal: 21.8s\tremaining: 10.6s\n",
      "336:\tlearn: 28.1448683\ttotal: 21.8s\tremaining: 10.6s\n",
      "337:\tlearn: 28.0320945\ttotal: 21.9s\tremaining: 10.5s\n",
      "338:\tlearn: 27.9141340\ttotal: 21.9s\tremaining: 10.4s\n",
      "339:\tlearn: 27.8076426\ttotal: 22s\tremaining: 10.3s\n",
      "340:\tlearn: 27.7045588\ttotal: 22s\tremaining: 10.3s\n",
      "341:\tlearn: 27.5898773\ttotal: 22.1s\tremaining: 10.2s\n",
      "342:\tlearn: 27.4729482\ttotal: 22.1s\tremaining: 10.1s\n",
      "343:\tlearn: 27.3683531\ttotal: 22.2s\tremaining: 10.1s\n",
      "344:\tlearn: 27.2585992\ttotal: 22.3s\tremaining: 10s\n",
      "345:\tlearn: 27.1559894\ttotal: 22.3s\tremaining: 9.93s\n",
      "346:\tlearn: 27.0439638\ttotal: 22.4s\tremaining: 9.86s\n",
      "347:\tlearn: 26.9406665\ttotal: 22.4s\tremaining: 9.79s\n",
      "348:\tlearn: 26.8345199\ttotal: 22.5s\tremaining: 9.72s\n",
      "349:\tlearn: 26.7298879\ttotal: 22.5s\tremaining: 9.66s\n",
      "350:\tlearn: 26.6272301\ttotal: 22.6s\tremaining: 9.59s\n",
      "351:\tlearn: 26.5272546\ttotal: 22.6s\tremaining: 9.52s\n",
      "352:\tlearn: 26.4233260\ttotal: 22.7s\tremaining: 9.45s\n",
      "353:\tlearn: 26.3202521\ttotal: 22.7s\tremaining: 9.38s\n",
      "354:\tlearn: 26.2129557\ttotal: 22.8s\tremaining: 9.32s\n",
      "355:\tlearn: 26.1116288\ttotal: 22.9s\tremaining: 9.25s\n",
      "356:\tlearn: 26.0138793\ttotal: 22.9s\tremaining: 9.18s\n",
      "357:\tlearn: 25.9188185\ttotal: 23s\tremaining: 9.11s\n",
      "358:\tlearn: 25.8160008\ttotal: 23s\tremaining: 9.04s\n",
      "359:\tlearn: 25.7281413\ttotal: 23.1s\tremaining: 8.98s\n",
      "360:\tlearn: 25.6365215\ttotal: 23.1s\tremaining: 8.91s\n",
      "361:\tlearn: 25.5396024\ttotal: 23.2s\tremaining: 8.84s\n",
      "362:\tlearn: 25.4512909\ttotal: 23.3s\tremaining: 8.78s\n",
      "363:\tlearn: 25.3566479\ttotal: 23.3s\tremaining: 8.71s\n",
      "364:\tlearn: 25.2558837\ttotal: 23.4s\tremaining: 8.64s\n",
      "365:\tlearn: 25.1646553\ttotal: 23.4s\tremaining: 8.57s\n",
      "366:\tlearn: 25.0722988\ttotal: 23.5s\tremaining: 8.51s\n",
      "367:\tlearn: 24.9784725\ttotal: 23.5s\tremaining: 8.44s\n",
      "368:\tlearn: 24.8875848\ttotal: 23.6s\tremaining: 8.38s\n",
      "369:\tlearn: 24.7945960\ttotal: 23.6s\tremaining: 8.31s\n",
      "370:\tlearn: 24.6987905\ttotal: 23.7s\tremaining: 8.24s\n",
      "371:\tlearn: 24.6053970\ttotal: 23.8s\tremaining: 8.18s\n",
      "372:\tlearn: 24.5172922\ttotal: 23.8s\tremaining: 8.11s\n",
      "373:\tlearn: 24.4258037\ttotal: 23.9s\tremaining: 8.04s\n",
      "374:\tlearn: 24.3368690\ttotal: 23.9s\tremaining: 7.97s\n",
      "375:\tlearn: 24.2475171\ttotal: 24s\tremaining: 7.91s\n",
      "376:\tlearn: 24.1598421\ttotal: 24s\tremaining: 7.84s\n",
      "377:\tlearn: 24.0713968\ttotal: 24.1s\tremaining: 7.77s\n",
      "378:\tlearn: 23.9839874\ttotal: 24.1s\tremaining: 7.71s\n",
      "379:\tlearn: 23.9065810\ttotal: 24.2s\tremaining: 7.64s\n",
      "380:\tlearn: 23.8255132\ttotal: 24.3s\tremaining: 7.58s\n",
      "381:\tlearn: 23.7366142\ttotal: 24.3s\tremaining: 7.51s\n",
      "382:\tlearn: 23.6578205\ttotal: 24.4s\tremaining: 7.44s\n",
      "383:\tlearn: 23.5680707\ttotal: 24.4s\tremaining: 7.38s\n",
      "384:\tlearn: 23.4832305\ttotal: 24.5s\tremaining: 7.31s\n",
      "385:\tlearn: 23.4105814\ttotal: 24.5s\tremaining: 7.24s\n",
      "386:\tlearn: 23.3240373\ttotal: 24.6s\tremaining: 7.18s\n",
      "387:\tlearn: 23.2449733\ttotal: 24.6s\tremaining: 7.11s\n",
      "388:\tlearn: 23.1647333\ttotal: 24.7s\tremaining: 7.05s\n",
      "389:\tlearn: 23.0772785\ttotal: 24.8s\tremaining: 6.98s\n",
      "390:\tlearn: 22.9990911\ttotal: 24.8s\tremaining: 6.92s\n",
      "391:\tlearn: 22.9212213\ttotal: 24.9s\tremaining: 6.85s\n",
      "392:\tlearn: 22.8375443\ttotal: 24.9s\tremaining: 6.78s\n",
      "393:\tlearn: 22.7636414\ttotal: 25s\tremaining: 6.72s\n",
      "394:\tlearn: 22.6926147\ttotal: 25s\tremaining: 6.65s\n",
      "395:\tlearn: 22.6105129\ttotal: 25.1s\tremaining: 6.59s\n",
      "396:\tlearn: 22.5344554\ttotal: 25.1s\tremaining: 6.52s\n",
      "397:\tlearn: 22.4539102\ttotal: 25.2s\tremaining: 6.45s\n",
      "398:\tlearn: 22.3804824\ttotal: 25.2s\tremaining: 6.39s\n",
      "399:\tlearn: 22.3042418\ttotal: 25.3s\tremaining: 6.32s\n",
      "400:\tlearn: 22.2362285\ttotal: 25.4s\tremaining: 6.26s\n",
      "401:\tlearn: 22.1620765\ttotal: 25.4s\tremaining: 6.19s\n",
      "402:\tlearn: 22.0798272\ttotal: 25.5s\tremaining: 6.13s\n",
      "403:\tlearn: 22.0030651\ttotal: 25.5s\tremaining: 6.06s\n",
      "404:\tlearn: 21.9304158\ttotal: 25.6s\tremaining: 6s\n",
      "405:\tlearn: 21.8519464\ttotal: 25.6s\tremaining: 5.93s\n",
      "406:\tlearn: 21.7842746\ttotal: 25.7s\tremaining: 5.87s\n",
      "407:\tlearn: 21.7156261\ttotal: 25.7s\tremaining: 5.8s\n",
      "408:\tlearn: 21.6424941\ttotal: 25.8s\tremaining: 5.74s\n",
      "409:\tlearn: 21.5687326\ttotal: 25.9s\tremaining: 5.67s\n",
      "410:\tlearn: 21.4952213\ttotal: 25.9s\tremaining: 5.61s\n",
      "411:\tlearn: 21.4216326\ttotal: 26s\tremaining: 5.55s\n",
      "412:\tlearn: 21.3482463\ttotal: 26s\tremaining: 5.48s\n",
      "413:\tlearn: 21.2766393\ttotal: 26.1s\tremaining: 5.42s\n",
      "414:\tlearn: 21.2121850\ttotal: 26.1s\tremaining: 5.35s\n",
      "415:\tlearn: 21.1467396\ttotal: 26.2s\tremaining: 5.29s\n",
      "416:\tlearn: 21.0816922\ttotal: 26.2s\tremaining: 5.22s\n",
      "417:\tlearn: 21.0114981\ttotal: 26.3s\tremaining: 5.16s\n",
      "418:\tlearn: 20.9395321\ttotal: 26.4s\tremaining: 5.09s\n",
      "419:\tlearn: 20.8723562\ttotal: 26.4s\tremaining: 5.03s\n",
      "420:\tlearn: 20.8028065\ttotal: 26.5s\tremaining: 4.97s\n",
      "421:\tlearn: 20.7369766\ttotal: 26.5s\tremaining: 4.9s\n",
      "422:\tlearn: 20.6690695\ttotal: 26.6s\tremaining: 4.84s\n",
      "423:\tlearn: 20.6067726\ttotal: 26.6s\tremaining: 4.77s\n",
      "424:\tlearn: 20.5439748\ttotal: 26.7s\tremaining: 4.71s\n",
      "425:\tlearn: 20.4787765\ttotal: 26.7s\tremaining: 4.64s\n",
      "426:\tlearn: 20.4161373\ttotal: 26.8s\tremaining: 4.58s\n",
      "427:\tlearn: 20.3544304\ttotal: 26.9s\tremaining: 4.52s\n",
      "428:\tlearn: 20.2864673\ttotal: 26.9s\tremaining: 4.45s\n",
      "429:\tlearn: 20.2173345\ttotal: 27s\tremaining: 4.39s\n",
      "430:\tlearn: 20.1510646\ttotal: 27s\tremaining: 4.33s\n",
      "431:\tlearn: 20.0875465\ttotal: 27.1s\tremaining: 4.26s\n",
      "432:\tlearn: 20.0198134\ttotal: 27.1s\tremaining: 4.2s\n",
      "433:\tlearn: 19.9548387\ttotal: 27.2s\tremaining: 4.13s\n",
      "434:\tlearn: 19.8861905\ttotal: 27.2s\tremaining: 4.07s\n",
      "435:\tlearn: 19.8249005\ttotal: 27.3s\tremaining: 4.01s\n",
      "436:\tlearn: 19.7655676\ttotal: 27.4s\tremaining: 3.94s\n",
      "437:\tlearn: 19.7058809\ttotal: 27.4s\tremaining: 3.88s\n",
      "438:\tlearn: 19.6442824\ttotal: 27.5s\tremaining: 3.81s\n",
      "439:\tlearn: 19.5803380\ttotal: 27.5s\tremaining: 3.75s\n",
      "440:\tlearn: 19.5161590\ttotal: 27.6s\tremaining: 3.69s\n",
      "441:\tlearn: 19.4561041\ttotal: 27.6s\tremaining: 3.63s\n",
      "442:\tlearn: 19.3933123\ttotal: 27.7s\tremaining: 3.56s\n",
      "443:\tlearn: 19.3252132\ttotal: 27.7s\tremaining: 3.5s\n",
      "444:\tlearn: 19.2626146\ttotal: 27.8s\tremaining: 3.44s\n",
      "445:\tlearn: 19.1999030\ttotal: 27.8s\tremaining: 3.37s\n",
      "446:\tlearn: 19.1458366\ttotal: 27.9s\tremaining: 3.31s\n",
      "447:\tlearn: 19.0848999\ttotal: 28s\tremaining: 3.24s\n",
      "448:\tlearn: 19.0267521\ttotal: 28s\tremaining: 3.18s\n",
      "449:\tlearn: 18.9650921\ttotal: 28.1s\tremaining: 3.12s\n",
      "450:\tlearn: 18.9022993\ttotal: 28.1s\tremaining: 3.06s\n",
      "451:\tlearn: 18.8430390\ttotal: 28.2s\tremaining: 2.99s\n",
      "452:\tlearn: 18.7860447\ttotal: 28.2s\tremaining: 2.93s\n",
      "453:\tlearn: 18.7304483\ttotal: 28.3s\tremaining: 2.87s\n",
      "454:\tlearn: 18.6789400\ttotal: 28.3s\tremaining: 2.8s\n",
      "455:\tlearn: 18.6227305\ttotal: 28.4s\tremaining: 2.74s\n",
      "456:\tlearn: 18.5638877\ttotal: 28.5s\tremaining: 2.68s\n",
      "457:\tlearn: 18.5038824\ttotal: 28.5s\tremaining: 2.61s\n",
      "458:\tlearn: 18.4519267\ttotal: 28.6s\tremaining: 2.55s\n",
      "459:\tlearn: 18.3930695\ttotal: 28.6s\tremaining: 2.49s\n",
      "460:\tlearn: 18.3387257\ttotal: 28.7s\tremaining: 2.43s\n",
      "461:\tlearn: 18.2837415\ttotal: 28.7s\tremaining: 2.36s\n",
      "462:\tlearn: 18.2286376\ttotal: 28.8s\tremaining: 2.3s\n",
      "463:\tlearn: 18.1740351\ttotal: 28.8s\tremaining: 2.24s\n",
      "464:\tlearn: 18.1184072\ttotal: 28.9s\tremaining: 2.17s\n",
      "465:\tlearn: 18.0648594\ttotal: 28.9s\tremaining: 2.11s\n",
      "466:\tlearn: 18.0107432\ttotal: 29s\tremaining: 2.05s\n",
      "467:\tlearn: 17.9542223\ttotal: 29.1s\tremaining: 1.99s\n",
      "468:\tlearn: 17.8982369\ttotal: 29.1s\tremaining: 1.92s\n",
      "469:\tlearn: 17.8473099\ttotal: 29.2s\tremaining: 1.86s\n",
      "470:\tlearn: 17.7966985\ttotal: 29.2s\tremaining: 1.8s\n",
      "471:\tlearn: 17.7409434\ttotal: 29.3s\tremaining: 1.74s\n",
      "472:\tlearn: 17.6832334\ttotal: 29.3s\tremaining: 1.67s\n",
      "473:\tlearn: 17.6332194\ttotal: 29.4s\tremaining: 1.61s\n",
      "474:\tlearn: 17.5845775\ttotal: 29.4s\tremaining: 1.55s\n",
      "475:\tlearn: 17.5329462\ttotal: 29.5s\tremaining: 1.49s\n",
      "476:\tlearn: 17.4796430\ttotal: 29.5s\tremaining: 1.42s\n",
      "477:\tlearn: 17.4241775\ttotal: 29.6s\tremaining: 1.36s\n",
      "478:\tlearn: 17.3750723\ttotal: 29.7s\tremaining: 1.3s\n",
      "479:\tlearn: 17.3235320\ttotal: 29.7s\tremaining: 1.24s\n",
      "480:\tlearn: 17.2709703\ttotal: 29.8s\tremaining: 1.18s\n",
      "481:\tlearn: 17.2152565\ttotal: 29.8s\tremaining: 1.11s\n",
      "482:\tlearn: 17.1601494\ttotal: 29.9s\tremaining: 1.05s\n",
      "483:\tlearn: 17.1094705\ttotal: 29.9s\tremaining: 990ms\n",
      "484:\tlearn: 17.0573007\ttotal: 30s\tremaining: 928ms\n",
      "485:\tlearn: 17.0159352\ttotal: 30s\tremaining: 866ms\n",
      "486:\tlearn: 16.9646506\ttotal: 30.1s\tremaining: 803ms\n",
      "487:\tlearn: 16.9181669\ttotal: 30.2s\tremaining: 741ms\n",
      "488:\tlearn: 16.8728308\ttotal: 30.2s\tremaining: 680ms\n",
      "489:\tlearn: 16.8274454\ttotal: 30.3s\tremaining: 617ms\n",
      "490:\tlearn: 16.7797778\ttotal: 30.3s\tremaining: 556ms\n",
      "491:\tlearn: 16.7337540\ttotal: 30.4s\tremaining: 494ms\n",
      "492:\tlearn: 16.6862730\ttotal: 30.4s\tremaining: 432ms\n",
      "493:\tlearn: 16.6385160\ttotal: 30.5s\tremaining: 370ms\n",
      "494:\tlearn: 16.5860923\ttotal: 30.5s\tremaining: 308ms\n",
      "495:\tlearn: 16.5312962\ttotal: 30.6s\tremaining: 247ms\n",
      "496:\tlearn: 16.4821661\ttotal: 30.6s\tremaining: 185ms\n",
      "497:\tlearn: 16.4348227\ttotal: 30.7s\tremaining: 123ms\n",
      "498:\tlearn: 16.3953700\ttotal: 30.8s\tremaining: 61.6ms\n",
      "499:\tlearn: 16.3520947\ttotal: 30.8s\tremaining: 0us\n"
     ]
    }
   ]
  },
  {
   "cell_type": "code",
   "source": [
    "ind = y_train_pred_outliers[y_train_pred_outliers['predicted']==1].index\n",
    "y_train_pred.loc[ind] = 1093\n",
    "\n",
    "ind = y_val_pred_outliers[y_val_pred_outliers['predicted']==1].index\n",
    "y_val_pred.loc[ind] = 1093\n",
    "\n",
    "mae_train = round(mean_absolute_error(y_train, y_train_pred), 2)\n",
    "mae_val = round(mean_absolute_error(y_val, y_val_pred), 2)\n",
    "print(f'MAE on train set = {mae_train}')\n",
    "print(f'MAE on test set = {mae_val}')"
   ],
   "metadata": {
    "execution": {
     "iopub.status.busy": "2023-08-20T09:15:50.052096Z",
     "iopub.execute_input": "2023-08-20T09:15:50.052485Z",
     "iopub.status.idle": "2023-08-20T09:15:50.067457Z",
     "shell.execute_reply.started": "2023-08-20T09:15:50.052457Z",
     "shell.execute_reply": "2023-08-20T09:15:50.065364Z"
    },
    "trusted": true,
    "ExecuteTime": {
     "end_time": "2023-08-21T10:18:32.094745272Z",
     "start_time": "2023-08-21T10:18:32.088428080Z"
    }
   },
   "execution_count": 150,
   "outputs": [
    {
     "name": "stdout",
     "output_type": "stream",
     "text": [
      "MAE on train set = 12.56\n",
      "MAE on test set = 61.36\n"
     ]
    }
   ]
  },
  {
   "cell_type": "markdown",
   "source": [
    "Better than linear regression but worse than previous gradboosting regression. Previous metrics:\n",
    "- MAE on train set = 37.2\n",
    "- MAE on test set = 91.37\n",
    "\n",
    "We still need to deal with overfitting but for the last algorithm overfitting is much less. So, in total the last algorithm is much better."
   ],
   "metadata": {}
  },
  {
   "cell_type": "code",
   "source": [
    "plt.figure(figsize=(6, 3))\n",
    "plt.hist(y_val_pred, bins=30, alpha=0.6, label='Predicted values on the test set')\n",
    "plt.hist(y_val, bins=30, alpha=0.6, label='True values of the test set')\n",
    "plt.legend()\n",
    "plt.show()"
   ],
   "metadata": {
    "execution": {
     "iopub.status.busy": "2023-08-20T09:16:04.496751Z",
     "iopub.execute_input": "2023-08-20T09:16:04.497190Z",
     "iopub.status.idle": "2023-08-20T09:16:04.806141Z",
     "shell.execute_reply.started": "2023-08-20T09:16:04.497160Z",
     "shell.execute_reply": "2023-08-20T09:16:04.804857Z"
    },
    "trusted": true,
    "ExecuteTime": {
     "end_time": "2023-08-21T10:18:35.348983306Z",
     "start_time": "2023-08-21T10:18:35.180073776Z"
    }
   },
   "execution_count": 151,
   "outputs": [
    {
     "data": {
      "text/plain": "<Figure size 600x300 with 1 Axes>",
      "image/png": "[encoded data removed]"
     },
     "metadata": {},
     "output_type": "display_data"
    }
   ]
  },
  {
   "cell_type": "code",
   "execution_count": 121,
   "outputs": [],
   "source": [],
   "metadata": {
    "collapsed": false,
    "ExecuteTime": {
     "end_time": "2023-08-20T17:46:17.638619588Z",
     "start_time": "2023-08-20T17:46:17.631967207Z"
    }
   }
  }
 ]
}
